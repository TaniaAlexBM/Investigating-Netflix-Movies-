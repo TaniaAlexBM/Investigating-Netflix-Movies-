{
 "cells": [
  {
   "cell_type": "markdown",
   "source": "## 1. Loading your friend's data into a dictionary\n<p><img src=\"https://assets.datacamp.com/production/project_1237/img/netflix.jpg\" alt=\"Someone's feet on table facing a television\"></p>\n<p>Netflix! What started in 1997 as a DVD rental service has since exploded into the largest entertainment/media company by <a href=\"https://www.marketwatch.com/story/netflix-shares-close-up-8-for-yet-another-record-high-2020-07-10\">market capitalization</a>, boasting over 200 million subscribers as of <a href=\"https://www.cbsnews.com/news/netflix-tops-200-million-subscribers-but-faces-growing-challenge-from-disney-plus/\">January 2021</a>.</p>\n<p>Given the large number of movies and series available on the platform, it is a perfect opportunity to flex our data manipulation skills and dive into the entertainment industry. Our friend has also been brushing up on their Python skills and has taken a first crack at a CSV file containing Netflix data. For their first order of business, they have been performing some analyses, and they believe that the average duration of movies has been declining. </p>\n\n<p>As evidence of this, they have provided us with the following information. For the years from 2011 to 2020, the average movie durations are 103, 101, 99, 100, 100, 95, 95, 96, 93, and 90, respectively.</p>\n<p>If we're going to be working with this data, we know a good place to start would be to probably start working with <code>pandas</code>. But first we'll need to create a DataFrame from scratch. Let's start by creating a Python object covered in <a href=\"https://learn.datacamp.com/courses/intermediate-python\">Intermediate Python</a>: a dictionary!</p>\n\n\n\n---\n\n\n---\n\n\n---\n\n\n\n\n¡Netflix! Lo que comenzó en 1997 como un servicio de alquiler de DVDs se ha convertido en la mayor empresa de entretenimiento/medios de comunicación por capitalización bursátil, con más de 200 millones de suscriptores a partir de enero de 2021.\n\nDado el gran número de películas y series disponibles en la plataforma, es una oportunidad perfecta para flexionar nuestras habilidades de manipulación de datos y sumergirnos en la industria del entretenimiento. Nuestro amigo también ha estado repasando sus conocimientos de Python y ha hecho un primer intento con un archivo CSV que contiene datos de Netflix. Para su primera orden de trabajo, han estado realizando algunos análisis, y creen que la duración media de las películas ha ido disminuyendo.\n\nComo prueba de ello, nos han proporcionado la siguiente información. Para los años comprendidos entre 2011 y 2020, las duraciones medias de las películas son 103, 101, 99, 100, 100, 95, 95, 96, 93 y 90, respectivamente.\n\nSi vamos a trabajar con estos datos, sabemos que un buen punto de partida sería probablemente empezar a trabajar con `pandas`. Pero primero tendremos que crear un DataFrame desde cero. Empecemos por crear un objeto de Python cubierto en Python Intermedio: ¡un diccionario!\n",
   "metadata": {
    "dc": {
     "key": "4"
    },
    "deletable": false,
    "editable": false,
    "run_control": {
     "frozen": true
    },
    "tags": [
     "context"
    ],
    "id": "wIDz8EfCOoyK",
    "cell_id": "442fd4c1-0973-4f50-88a6-c0898043b8b3",
    "deepnote_app_coordinates": {
     "x": 0,
     "y": 0,
     "w": 12,
     "h": 62
    },
    "deepnote_cell_type": "markdown",
    "deepnote_cell_height": 1135.4375
   }
  },
  {
   "cell_type": "code",
   "metadata": {
    "dc": {
     "key": "4"
    },
    "tags": [
     "sample_code"
    ],
    "trusted": true,
    "id": "YHIPsYgQOoyU",
    "cell_id": "00001-3bf2e7af-d9c1-41c0-8cff-cc35befd61d2",
    "deepnote_to_be_reexecuted": false,
    "source_hash": "f3d4499d",
    "execution_start": 1652537905061,
    "execution_millis": 19,
    "deepnote_app_coordinates": {
     "x": 0,
     "y": 63,
     "w": 12,
     "h": 11
    },
    "deepnote_cell_type": "code",
    "deepnote_cell_height": 281.375,
    "deepnote_output_heights": [
     40.390625
    ]
   },
   "source": "# Create the years and durations lists\nyears = [2011,2012,2013,2014,2015,2016,2017,2018, 2019,2020]\ndurations = [103,101,99,100,100,95,95,96,93,90]\n\n# Create a dictionary with the two lists\nmovie_dict = {'years':years,'duration':durations}\n\n# Print the dictionary\nmovie_dict",
   "execution_count": null,
   "outputs": [
    {
     "output_type": "execute_result",
     "execution_count": 4,
     "data": {
      "text/plain": "{'years': [2011, 2012, 2013, 2014, 2015, 2016, 2017, 2018, 2019, 2020],\n 'duration': [103, 101, 99, 100, 100, 95, 95, 96, 93, 90]}"
     },
     "metadata": {}
    }
   ]
  },
  {
   "cell_type": "markdown",
   "source": "## 2. Creating a DataFrame from a dictionary\n<p>To convert our dictionary <code>movie_dict</code> to a <code>pandas</code> DataFrame, we will first need to import the library under its usual alias. We'll also want to inspect our DataFrame to ensure it was created correctly. Let's perform these steps now.</p>\n\n\n\n---\n\n\n\n---\n\n\n\n---\n## 2. Creación de un DataFrame a partir de un diccionario\n\nPara convertir nuestro diccionario `movie_dict` en un DataFrame de `pandas`, primero tendremos que importar la librería bajo su alias habitual. También querremos inspeccionar nuestro DataFrame para asegurarnos de que se ha creado correctamente. Vamos a realizar estos pasos ahora.\n",
   "metadata": {
    "dc": {
     "key": "11"
    },
    "deletable": false,
    "editable": false,
    "run_control": {
     "frozen": true
    },
    "tags": [
     "context"
    ],
    "id": "HhjkXCYCOoyX",
    "cell_id": "00002-d31dab0d-a601-4542-9ba8-aa03a607c27e",
    "owner_user_id": "26e4863a-ad6f-4565-bcfe-49f62f9952f1",
    "deepnote_app_coordinates": {
     "x": 0,
     "y": 75,
     "w": 12,
     "h": 31
    },
    "deepnote_cell_type": "markdown",
    "deepnote_cell_height": 283
   }
  },
  {
   "cell_type": "code",
   "metadata": {
    "dc": {
     "key": "11"
    },
    "tags": [
     "sample_code"
    ],
    "trusted": true,
    "id": "syN174HTOoyY",
    "cell_id": "00003-eadc72ce-022f-4f04-bc60-992f9a087b7a",
    "deepnote_to_be_reexecuted": false,
    "source_hash": "15357cf0",
    "execution_start": 1652538518572,
    "execution_millis": 4,
    "deepnote_app_coordinates": {
     "x": 0,
     "y": 107,
     "w": 12,
     "h": 32
    },
    "deepnote_cell_type": "code",
    "deepnote_cell_height": 762
   },
   "source": "# Import pandas under its usual alias\nimport pandas as pd\n\n\n# Create a DataFrame from the dictionary\nduration_df = pd.DataFrame(movie_dict)\n\n# Print the DataFrame\nduration_df\n",
   "execution_count": null,
   "outputs": [
    {
     "output_type": "execute_result",
     "execution_count": 9,
     "data": {
      "application/vnd.deepnote.dataframe.v3+json": {
       "column_count": 2,
       "row_count": 10,
       "columns": [
        {
         "name": "years",
         "dtype": "int64",
         "stats": {
          "unique_count": 10,
          "nan_count": 0,
          "min": "2011",
          "max": "2020",
          "histogram": [
           {
            "bin_start": 2011,
            "bin_end": 2011.9,
            "count": 1
           },
           {
            "bin_start": 2011.9,
            "bin_end": 2012.8,
            "count": 1
           },
           {
            "bin_start": 2012.8,
            "bin_end": 2013.7,
            "count": 1
           },
           {
            "bin_start": 2013.7,
            "bin_end": 2014.6,
            "count": 1
           },
           {
            "bin_start": 2014.6,
            "bin_end": 2015.5,
            "count": 1
           },
           {
            "bin_start": 2015.5,
            "bin_end": 2016.4,
            "count": 1
           },
           {
            "bin_start": 2016.4,
            "bin_end": 2017.3,
            "count": 1
           },
           {
            "bin_start": 2017.3,
            "bin_end": 2018.2,
            "count": 1
           },
           {
            "bin_start": 2018.2,
            "bin_end": 2019.1,
            "count": 1
           },
           {
            "bin_start": 2019.1,
            "bin_end": 2020,
            "count": 1
           }
          ]
         }
        },
        {
         "name": "duration",
         "dtype": "int64",
         "stats": {
          "unique_count": 8,
          "nan_count": 0,
          "min": "90",
          "max": "103",
          "histogram": [
           {
            "bin_start": 90,
            "bin_end": 91.3,
            "count": 1
           },
           {
            "bin_start": 91.3,
            "bin_end": 92.6,
            "count": 0
           },
           {
            "bin_start": 92.6,
            "bin_end": 93.9,
            "count": 1
           },
           {
            "bin_start": 93.9,
            "bin_end": 95.2,
            "count": 2
           },
           {
            "bin_start": 95.2,
            "bin_end": 96.5,
            "count": 1
           },
           {
            "bin_start": 96.5,
            "bin_end": 97.8,
            "count": 0
           },
           {
            "bin_start": 97.8,
            "bin_end": 99.1,
            "count": 1
           },
           {
            "bin_start": 99.1,
            "bin_end": 100.4,
            "count": 2
           },
           {
            "bin_start": 100.4,
            "bin_end": 101.7,
            "count": 1
           },
           {
            "bin_start": 101.7,
            "bin_end": 103,
            "count": 1
           }
          ]
         }
        },
        {
         "name": "_deepnote_index_column",
         "dtype": "int64"
        }
       ],
       "rows": [
        {
         "years": 2011,
         "duration": 103,
         "_deepnote_index_column": 0
        },
        {
         "years": 2012,
         "duration": 101,
         "_deepnote_index_column": 1
        },
        {
         "years": 2013,
         "duration": 99,
         "_deepnote_index_column": 2
        },
        {
         "years": 2014,
         "duration": 100,
         "_deepnote_index_column": 3
        },
        {
         "years": 2015,
         "duration": 100,
         "_deepnote_index_column": 4
        },
        {
         "years": 2016,
         "duration": 95,
         "_deepnote_index_column": 5
        },
        {
         "years": 2017,
         "duration": 95,
         "_deepnote_index_column": 6
        },
        {
         "years": 2018,
         "duration": 96,
         "_deepnote_index_column": 7
        },
        {
         "years": 2019,
         "duration": 93,
         "_deepnote_index_column": 8
        },
        {
         "years": 2020,
         "duration": 90,
         "_deepnote_index_column": 9
        }
       ]
      },
      "text/plain": "   years  duration\n0   2011       103\n1   2012       101\n2   2013        99\n3   2014       100\n4   2015       100\n5   2016        95\n6   2017        95\n7   2018        96\n8   2019        93\n9   2020        90",
      "text/html": "<div>\n<style scoped>\n    .dataframe tbody tr th:only-of-type {\n        vertical-align: middle;\n    }\n\n    .dataframe tbody tr th {\n        vertical-align: top;\n    }\n\n    .dataframe thead th {\n        text-align: right;\n    }\n</style>\n<table border=\"1\" class=\"dataframe\">\n  <thead>\n    <tr style=\"text-align: right;\">\n      <th></th>\n      <th>years</th>\n      <th>duration</th>\n    </tr>\n  </thead>\n  <tbody>\n    <tr>\n      <th>0</th>\n      <td>2011</td>\n      <td>103</td>\n    </tr>\n    <tr>\n      <th>1</th>\n      <td>2012</td>\n      <td>101</td>\n    </tr>\n    <tr>\n      <th>2</th>\n      <td>2013</td>\n      <td>99</td>\n    </tr>\n    <tr>\n      <th>3</th>\n      <td>2014</td>\n      <td>100</td>\n    </tr>\n    <tr>\n      <th>4</th>\n      <td>2015</td>\n      <td>100</td>\n    </tr>\n    <tr>\n      <th>5</th>\n      <td>2016</td>\n      <td>95</td>\n    </tr>\n    <tr>\n      <th>6</th>\n      <td>2017</td>\n      <td>95</td>\n    </tr>\n    <tr>\n      <th>7</th>\n      <td>2018</td>\n      <td>96</td>\n    </tr>\n    <tr>\n      <th>8</th>\n      <td>2019</td>\n      <td>93</td>\n    </tr>\n    <tr>\n      <th>9</th>\n      <td>2020</td>\n      <td>90</td>\n    </tr>\n  </tbody>\n</table>\n</div>"
     },
     "metadata": {}
    }
   ]
  },
  {
   "cell_type": "markdown",
   "source": "## 3. A visual inspection of our data\n<p>Alright, we now have a <code>pandas</code> DataFrame, the most common way to work with tabular data in Python. Now back to the task at hand. We want to follow up on our friend's assertion that movie lengths have been decreasing over time. A great place to start will be a visualization of the data.</p>\n<p>Given that the data is continuous, a line plot would be a good choice, with the dates represented along the x-axis and the average length in minutes along the y-axis. This will allow us to easily spot any trends in movie durations. There are many ways to visualize data in Python, but <code>matploblib.pyplot</code> is one of the most common packages to do so.</p>\n<p><em>Note: In order for us to correctly test your plot, you will need to initalize a <code>matplotlib.pyplot</code> Figure object, which we have already provided in the cell below. You can continue to create your plot as you have learned in Intermediate Python.</em></p>\n\n\n\n---\n\n\n\n---\n\n\n\n---\n\n## 3. Una inspección visual de nuestros datos\nMuy bien, ahora tenemos un DataFrame de `pandas`, la forma más común de trabajar con datos tabulares en Python. Ahora volvemos a la tarea que nos ocupa. Queremos hacer un seguimiento de la afirmación de nuestro amigo de que la duración de las películas ha ido disminuyendo con el tiempo. Un buen lugar para empezar será una visualización de los datos.\n\nDado que los datos son continuos, un gráfico de líneas sería una buena opción, con las fechas representadas en el eje x y la duración media en minutos en el eje y. Esto nos permitirá detectar fácilmente cualquier tendencia en la duración de las películas. Hay muchas formas de visualizar datos en Python, pero `matploblib.pyplot` es uno de los paquetes más comunes para hacerlo.\n\nNota: Para que podamos probar correctamente tu gráfico, necesitarás initalizar un objeto Figure de `matplotlib.pyplot`, que ya hemos proporcionado en la celda de abajo. Puedes seguir creando tu gráfico como has aprendido en Python Intermedio.\n",
   "metadata": {
    "dc": {
     "key": "18"
    },
    "deletable": false,
    "editable": false,
    "run_control": {
     "frozen": true
    },
    "tags": [
     "context"
    ],
    "id": "BrdUabr5Ooya",
    "cell_id": "00004-b37a14c4-42b6-494d-bd87-c51de1b18acd",
    "deepnote_app_coordinates": {
     "x": 0,
     "y": 140,
     "w": 12,
     "h": 71
    },
    "deepnote_cell_type": "markdown",
    "deepnote_cell_height": 585.390625
   }
  },
  {
   "cell_type": "code",
   "metadata": {
    "dc": {
     "key": "18"
    },
    "tags": [
     "sample_code"
    ],
    "trusted": true,
    "id": "OzYt6E62Ooyb",
    "cell_id": "00005-e6b9a716-7f2b-4290-b636-29dfd6348084",
    "deepnote_to_be_reexecuted": false,
    "source_hash": "7e8ce53e",
    "execution_start": 1652538523195,
    "execution_millis": 271,
    "deepnote_app_coordinates": {
     "x": 0,
     "y": 212,
     "w": 12,
     "h": 18
    },
    "deepnote_cell_type": "code",
    "deepnote_cell_height": 561,
    "deepnote_output_heights": [
     266
    ]
   },
   "source": "# Import matplotlib.pyplot under its usual alias and create a figure\nimport matplotlib.pyplot as plt\nfig = plt.figure()\n\n# Draw a line plot of release_years and durations\nplt.plot(duration_df['years'],duration_df['duration'])\n\n# Create a title\nplt.title('Netflix Movie Duration 2011-2020')\n\n# Show the plot\nplt.show()",
   "execution_count": null,
   "outputs": [
    {
     "data": {
      "text/plain": "<Figure size 432x288 with 1 Axes>",
      "image/png": "[encoded data removed]"
     },
     "metadata": {
      "needs_background": "light",
      "image/png": {
       "width": 375,
       "height": 264
      }
     },
     "output_type": "display_data"
    }
   ]
  },
  {
   "cell_type": "markdown",
   "source": "## 4. Loading the rest of the data from a CSV\n<p>Well, it looks like there is something to the idea that movie lengths have decreased over the past ten years! But equipped only with our friend's aggregations, we're limited in the further explorations we can perform. There are a few questions about this trend that we are currently unable to answer, including:</p>\n<ol>\n<li>What does this trend look like over a longer period of time?</li>\n<li>Is this explainable by something like the genre of entertainment?</li>\n</ol>\n<p>Upon asking our friend for the original CSV they used to perform their analyses, they gladly oblige and send it. We now have access to the CSV file, available at the path <code>\"datasets/netflix_data.csv\"</code>. Let's create another DataFrame, this time with all of the data. Given the length of our friend's data, printing the whole DataFrame is probably not a good idea, so we will inspect it by printing only the first five rows.</p>\n\n\n\n\n---\n\n\n\n---\n\n\n\n---\n## 4. Cargar el resto de los datos desde un CSV\n\nParece que la idea de que la duración de las películas ha disminuido en los últimos diez años tiene fundamento. Pero equipados sólo con las agregaciones de nuestro amigo, estamos limitados en las exploraciones posteriores que podemos realizar. Hay algunas preguntas sobre esta tendencia a las que no podemos dar respuesta, como por ejemplo\n\n¿Qué aspecto tiene esta tendencia en un periodo de tiempo más largo?\n¿Es explicable por algo como el género de entretenimiento?\nAl pedirle a nuestro amigo el CSV original que utilizó para realizar sus análisis, nos lo envía con mucho gusto. Ahora tenemos acceso al archivo CSV, disponible en la ruta `\"datasets/netflix_data.csv\"`. Vamos a crear otro DataFrame, esta vez con todos los datos. Dada la longitud de los datos de nuestro amigo, imprimir todo el DataFrame probablemente no sea una buena idea, así que lo inspeccionaremos imprimiendo sólo las cinco primeras filas.\n\n",
   "metadata": {
    "dc": {
     "key": "25"
    },
    "deletable": false,
    "editable": false,
    "run_control": {
     "frozen": true
    },
    "tags": [
     "context"
    ],
    "id": "TdkoCNfROoyd",
    "cell_id": "00006-2e01c4a3-1fdc-494d-b409-e34bc538824c",
    "deepnote_app_coordinates": {
     "x": 0,
     "y": 231,
     "w": 12,
     "h": 68
    },
    "deepnote_cell_type": "markdown",
    "deepnote_cell_height": 596.796875
   }
  },
  {
   "cell_type": "code",
   "metadata": {
    "dc": {
     "key": "25"
    },
    "tags": [
     "sample_code"
    ],
    "trusted": true,
    "id": "EZ6WmYJ8Ooyf",
    "cell_id": "00007-b4b8679c-f5a2-404f-8a6e-f034ad8096c8",
    "deepnote_to_be_reexecuted": false,
    "source_hash": "bf5b21bb",
    "execution_start": 1652538717689,
    "execution_millis": 233,
    "deepnote_app_coordinates": {
     "x": 0,
     "y": 300,
     "w": 12,
     "h": 28
    },
    "deepnote_cell_type": "code",
    "deepnote_cell_height": 688.796875
   },
   "source": "# Read in the CSV as a DataFrame\nnetflix_df = pd.read_csv('netflix_data.csv')\n\n# Print the first five rows of the DataFrame\nnetflix_df",
   "execution_count": null,
   "outputs": [
    {
     "output_type": "execute_result",
     "execution_count": 11,
     "data": {
      "application/vnd.deepnote.dataframe.v3+json": {
       "column_count": 11,
       "row_count": 7787,
       "columns": [
        {
         "name": "show_id",
         "dtype": "object",
         "stats": {
          "unique_count": 7787,
          "nan_count": 0,
          "categories": [
           {
            "name": "s1",
            "count": 1
           },
           {
            "name": "s2",
            "count": 1
           },
           {
            "name": "7785 others",
            "count": 7785
           }
          ]
         }
        },
        {
         "name": "type",
         "dtype": "object",
         "stats": {
          "unique_count": 2,
          "nan_count": 0,
          "categories": [
           {
            "name": "Movie",
            "count": 5377
           },
           {
            "name": "TV Show",
            "count": 2410
           }
          ]
         }
        },
        {
         "name": "title",
         "dtype": "object",
         "stats": {
          "unique_count": 7787,
          "nan_count": 0,
          "categories": [
           {
            "name": "3%",
            "count": 1
           },
           {
            "name": "7:19",
            "count": 1
           },
           {
            "name": "7785 others",
            "count": 7785
           }
          ]
         }
        },
        {
         "name": "director",
         "dtype": "object",
         "stats": {
          "unique_count": 4049,
          "nan_count": 2389,
          "categories": [
           {
            "name": "Raúl Campos, Jan Suter",
            "count": 18
           },
           {
            "name": "4048 others",
            "count": 5380
           },
           {
            "name": "Missing",
            "count": 2389
           }
          ]
         }
        },
        {
         "name": "cast",
         "dtype": "object",
         "stats": {
          "unique_count": 6831,
          "nan_count": 718,
          "categories": [
           {
            "name": "David Attenborough",
            "count": 18
           },
           {
            "name": "6830 others",
            "count": 7051
           },
           {
            "name": "Missing",
            "count": 718
           }
          ]
         }
        },
        {
         "name": "country",
         "dtype": "object",
         "stats": {
          "unique_count": 81,
          "nan_count": 507,
          "categories": [
           {
            "name": "United States",
            "count": 2883
           },
           {
            "name": "80 others",
            "count": 4397
           },
           {
            "name": "Missing",
            "count": 507
           }
          ]
         }
        },
        {
         "name": "date_added",
         "dtype": "object",
         "stats": {
          "unique_count": 1565,
          "nan_count": 10,
          "categories": [
           {
            "name": "January 1, 2020",
            "count": 118
           },
           {
            "name": "1564 others",
            "count": 7659
           },
           {
            "name": "Missing",
            "count": 10
           }
          ]
         }
        },
        {
         "name": "release_year",
         "dtype": "int64",
         "stats": {
          "unique_count": 73,
          "nan_count": 0,
          "min": "1925",
          "max": "2021",
          "histogram": [
           {
            "bin_start": 1925,
            "bin_end": 1934.6,
            "count": 1
           },
           {
            "bin_start": 1934.6,
            "bin_end": 1944.2,
            "count": 8
           },
           {
            "bin_start": 1944.2,
            "bin_end": 1953.8,
            "count": 6
           },
           {
            "bin_start": 1953.8,
            "bin_end": 1963.4,
            "count": 20
           },
           {
            "bin_start": 1963.4,
            "bin_end": 1973,
            "count": 27
           },
           {
            "bin_start": 1973,
            "bin_end": 1982.6,
            "count": 89
           },
           {
            "bin_start": 1982.6,
            "bin_end": 1992.2,
            "count": 128
           },
           {
            "bin_start": 1992.2,
            "bin_end": 2001.8,
            "count": 240
           },
           {
            "bin_start": 2001.8,
            "bin_end": 2011.4,
            "count": 997
           },
           {
            "bin_start": 2011.4,
            "bin_end": 2021,
            "count": 6271
           }
          ]
         }
        },
        {
         "name": "duration",
         "dtype": "int64",
         "stats": {
          "unique_count": 206,
          "nan_count": 0,
          "min": "1",
          "max": "312",
          "histogram": [
           {
            "bin_start": 1,
            "bin_end": 32.1,
            "count": 2539
           },
           {
            "bin_start": 32.1,
            "bin_end": 63.2,
            "count": 397
           },
           {
            "bin_start": 63.2,
            "bin_end": 94.30000000000001,
            "count": 1762
           },
           {
            "bin_start": 94.30000000000001,
            "bin_end": 125.4,
            "count": 2273
           },
           {
            "bin_start": 125.4,
            "bin_end": 156.5,
            "count": 650
           },
           {
            "bin_start": 156.5,
            "bin_end": 187.60000000000002,
            "count": 139
           },
           {
            "bin_start": 187.60000000000002,
            "bin_end": 218.70000000000002,
            "count": 20
           },
           {
            "bin_start": 218.70000000000002,
            "bin_end": 249.8,
            "count": 5
           },
           {
            "bin_start": 249.8,
            "bin_end": 280.90000000000003,
            "count": 1
           },
           {
            "bin_start": 280.90000000000003,
            "bin_end": 312,
            "count": 1
           }
          ]
         }
        },
        {
         "name": "description",
         "dtype": "object",
         "stats": {
          "unique_count": 7769,
          "nan_count": 0,
          "categories": [
           {
            "name": "Multiple women report their husbands as missing but when it appears they are looking for the same man, a police officer traces their cryptic connection.",
            "count": 3
           },
           {
            "name": "A surly septuagenarian gets another chance at her 20s after having her photo snapped at a studio that magically takes 50 years off her life.",
            "count": 3
           },
           {
            "name": "7767 others",
            "count": 7781
           }
          ]
         }
        },
        {
         "name": "genre",
         "dtype": "object",
         "stats": {
          "unique_count": 35,
          "nan_count": 0,
          "categories": [
           {
            "name": "Dramas",
            "count": 1384
           },
           {
            "name": "Comedies",
            "count": 1074
           },
           {
            "name": "33 others",
            "count": 5329
           }
          ]
         }
        },
        {
         "name": "_deepnote_index_column",
         "dtype": "int64"
        }
       ],
       "rows": [
        {
         "show_id": "s1",
         "type": "TV Show",
         "title": "3%",
         "director": "nan",
         "cast": "João Miguel, Bianca Comparato, Michel Gomes, Rodolfo Valente, Vaneza Oliveira, Rafael Lozano, Viviane Porto, Mel Fronckowiak, Sergio Mamberti, Zezé Motta, Celso Frateschi",
         "country": "Brazil",
         "date_added": "August 14, 2020",
         "release_year": 2020,
         "duration": 4,
         "description": "In a future where the elite inhabit an island paradise far from the crowded slums, you get one chance to join the 3% saved from squalor.",
         "genre": "International TV",
         "_deepnote_index_column": 0
        },
        {
         "show_id": "s2",
         "type": "Movie",
         "title": "7:19",
         "director": "Jorge Michel Grau",
         "cast": "Demián Bichir, Héctor Bonilla, Oscar Serrano, Azalia Ortiz, Octavio Michel, Carmen Beato",
         "country": "Mexico",
         "date_added": "December 23, 2016",
         "release_year": 2016,
         "duration": 93,
         "description": "After a devastating earthquake hits Mexico City, trapped survivors from all walks of life wait to be rescued while trying desperately to stay alive.",
         "genre": "Dramas",
         "_deepnote_index_column": 1
        },
        {
         "show_id": "s3",
         "type": "Movie",
         "title": "23:59",
         "director": "Gilbert Chan",
         "cast": "Tedd Chan, Stella Chung, Henley Hii, Lawrence Koh, Tommy Kuan, Josh Lai, Mark Lee, Susan Leong, Benjamin Lim",
         "country": "Singapore",
         "date_added": "December 20, 2018",
         "release_year": 2011,
         "duration": 78,
         "description": "When an army recruit is found dead, his fellow soldiers are forced to confront a terrifying secret that's haunting their jungle island training camp.",
         "genre": "Horror Movies",
         "_deepnote_index_column": 2
        },
        {
         "show_id": "s4",
         "type": "Movie",
         "title": "9",
         "director": "Shane Acker",
         "cast": "Elijah Wood, John C. Reilly, Jennifer Connelly, Christopher Plummer, Crispin Glover, Martin Landau, Fred Tatasciore, Alan Oppenheimer, Tom Kane",
         "country": "United States",
         "date_added": "November 16, 2017",
         "release_year": 2009,
         "duration": 80,
         "description": "In a postapocalyptic world, rag-doll robots hide in fear from dangerous machines out to exterminate them, until a brave newcomer joins the group.",
         "genre": "Action",
         "_deepnote_index_column": 3
        },
        {
         "show_id": "s5",
         "type": "Movie",
         "title": "21",
         "director": "Robert Luketic",
         "cast": "Jim Sturgess, Kevin Spacey, Kate Bosworth, Aaron Yoo, Liza Lapira, Jacob Pitts, Laurence Fishburne, Jack McGee, Josh Gad, Sam Golzari, Helen Carey, Jack Gilpin",
         "country": "United States",
         "date_added": "January 1, 2020",
         "release_year": 2008,
         "duration": 123,
         "description": "A brilliant group of students become card-counting experts with the intent of swindling millions out of Las Vegas casinos by playing blackjack.",
         "genre": "Dramas",
         "_deepnote_index_column": 4
        },
        {
         "show_id": "s6",
         "type": "TV Show",
         "title": "46",
         "director": "Serdar Akar",
         "cast": "Erdal Beşikçioğlu, Yasemin Allen, Melis Birkan, Saygın Soysal, Berkan Şal, Metin Belgin, Ayça Eren, Selin Uludoğan, Özay Fecht, Suna Yıldızoğlu",
         "country": "Turkey",
         "date_added": "July 1, 2017",
         "release_year": 2016,
         "duration": 1,
         "description": "A genetics professor experiments with a treatment for his comatose sister that blends medical and shamanic cures, but unlocks a shocking side effect.",
         "genre": "International TV",
         "_deepnote_index_column": 5
        },
        {
         "show_id": "s7",
         "type": "Movie",
         "title": "122",
         "director": "Yasir Al Yasiri",
         "cast": "Amina Khalil, Ahmed Dawood, Tarek Lotfy, Ahmed El Fishawy, Mahmoud Hijazi, Jihane Khalil, Asmaa Galal, Tara Emad",
         "country": "Egypt",
         "date_added": "June 1, 2020",
         "release_year": 2019,
         "duration": 95,
         "description": "After an awful accident, a couple admitted to a grisly hospital are separated and must find each other to escape — before death finds them.",
         "genre": "Horror Movies",
         "_deepnote_index_column": 6
        },
        {
         "show_id": "s8",
         "type": "Movie",
         "title": "187",
         "director": "Kevin Reynolds",
         "cast": "Samuel L. Jackson, John Heard, Kelly Rowan, Clifton Collins Jr., Tony Plana",
         "country": "United States",
         "date_added": "November 1, 2019",
         "release_year": 1997,
         "duration": 119,
         "description": "After one of his high school students attacks him, dedicated teacher Trevor Garfield grows weary of the gang warfare in the New York City school system and moves to California to teach there, thinking it must be a less hostile environment.",
         "genre": "Dramas",
         "_deepnote_index_column": 7
        },
        {
         "show_id": "s9",
         "type": "Movie",
         "title": "706",
         "director": "Shravan Kumar",
         "cast": "Divya Dutta, Atul Kulkarni, Mohan Agashe, Anupam Shyam, Raayo S. Bakhirta, Yashvit Sancheti, Greeva Kansara, Archan Trivedi, Rajiv Pathak",
         "country": "India",
         "date_added": "April 1, 2019",
         "release_year": 2019,
         "duration": 118,
         "description": "When a doctor goes missing, his psychiatrist wife treats the bizarre medical condition of a psychic patient, who knows much more than he's leading on.",
         "genre": "Horror Movies",
         "_deepnote_index_column": 8
        },
        {
         "show_id": "s10",
         "type": "Movie",
         "title": "1920",
         "director": "Vikram Bhatt",
         "cast": "Rajneesh Duggal, Adah Sharma, Indraneil Sengupta, Anjori Alagh, Rajendranath Zutshi, Vipin Sharma, Amin Hajee, Shri Vallabh Vyas",
         "country": "India",
         "date_added": "December 15, 2017",
         "release_year": 2008,
         "duration": 143,
         "description": "An architect and his wife move into a castle that is slated to become a luxury hotel. But something inside is determined to stop the renovation.",
         "genre": "Horror Movies",
         "_deepnote_index_column": 9
        }
       ]
      },
      "text/plain": "     show_id     type                                    title  \\\n0         s1  TV Show                                       3%   \n1         s2    Movie                                     7:19   \n2         s3    Movie                                    23:59   \n3         s4    Movie                                        9   \n4         s5    Movie                                       21   \n...      ...      ...                                      ...   \n7782   s7783    Movie                                     Zozo   \n7783   s7784    Movie                                   Zubaan   \n7784   s7785    Movie                        Zulu Man in Japan   \n7785   s7786  TV Show                    Zumbo's Just Desserts   \n7786   s7787    Movie  ZZ TOP: THAT LITTLE OL' BAND FROM TEXAS   \n\n               director                                               cast  \\\n0                   NaN  João Miguel, Bianca Comparato, Michel Gomes, R...   \n1     Jorge Michel Grau  Demián Bichir, Héctor Bonilla, Oscar Serrano, ...   \n2          Gilbert Chan  Tedd Chan, Stella Chung, Henley Hii, Lawrence ...   \n3           Shane Acker  Elijah Wood, John C. Reilly, Jennifer Connelly...   \n4        Robert Luketic  Jim Sturgess, Kevin Spacey, Kate Bosworth, Aar...   \n...                 ...                                                ...   \n7782        Josef Fares  Imad Creidi, Antoinette Turk, Elias Gergi, Car...   \n7783        Mozez Singh  Vicky Kaushal, Sarah-Jane Dias, Raaghav Chanan...   \n7784                NaN                                            Nasty C   \n7785                NaN                         Adriano Zumbo, Rachel Khoo   \n7786           Sam Dunn                                                NaN   \n\n             country          date_added  release_year  duration  \\\n0             Brazil     August 14, 2020          2020         4   \n1             Mexico   December 23, 2016          2016        93   \n2          Singapore   December 20, 2018          2011        78   \n3      United States   November 16, 2017          2009        80   \n4      United States     January 1, 2020          2008       123   \n...              ...                 ...           ...       ...   \n7782          Sweden    October 19, 2020          2005        99   \n7783           India       March 2, 2019          2015       111   \n7784             NaN  September 25, 2020          2019        44   \n7785       Australia    October 31, 2020          2019         1   \n7786  United Kingdom       March 1, 2020          2019        90   \n\n                                            description             genre  \n0     In a future where the elite inhabit an island ...  International TV  \n1     After a devastating earthquake hits Mexico Cit...            Dramas  \n2     When an army recruit is found dead, his fellow...     Horror Movies  \n3     In a postapocalyptic world, rag-doll robots hi...            Action  \n4     A brilliant group of students become card-coun...            Dramas  \n...                                                 ...               ...  \n7782  When Lebanon's Civil War deprives Zozo of his ...            Dramas  \n7783  A scrappy but poor boy worms his way into a ty...            Dramas  \n7784  In this documentary, South African rapper Nast...     Documentaries  \n7785  Dessert wizard Adriano Zumbo looks for the nex...  International TV  \n7786  This documentary delves into the mystique behi...     Documentaries  \n\n[7787 rows x 11 columns]",
      "text/html": "<div>\n<style scoped>\n    .dataframe tbody tr th:only-of-type {\n        vertical-align: middle;\n    }\n\n    .dataframe tbody tr th {\n        vertical-align: top;\n    }\n\n    .dataframe thead th {\n        text-align: right;\n    }\n</style>\n<table border=\"1\" class=\"dataframe\">\n  <thead>\n    <tr style=\"text-align: right;\">\n      <th></th>\n      <th>show_id</th>\n      <th>type</th>\n      <th>title</th>\n      <th>director</th>\n      <th>cast</th>\n      <th>country</th>\n      <th>date_added</th>\n      <th>release_year</th>\n      <th>duration</th>\n      <th>description</th>\n      <th>genre</th>\n    </tr>\n  </thead>\n  <tbody>\n    <tr>\n      <th>0</th>\n      <td>s1</td>\n      <td>TV Show</td>\n      <td>3%</td>\n      <td>NaN</td>\n      <td>João Miguel, Bianca Comparato, Michel Gomes, R...</td>\n      <td>Brazil</td>\n      <td>August 14, 2020</td>\n      <td>2020</td>\n      <td>4</td>\n      <td>In a future where the elite inhabit an island ...</td>\n      <td>International TV</td>\n    </tr>\n    <tr>\n      <th>1</th>\n      <td>s2</td>\n      <td>Movie</td>\n      <td>7:19</td>\n      <td>Jorge Michel Grau</td>\n      <td>Demián Bichir, Héctor Bonilla, Oscar Serrano, ...</td>\n      <td>Mexico</td>\n      <td>December 23, 2016</td>\n      <td>2016</td>\n      <td>93</td>\n      <td>After a devastating earthquake hits Mexico Cit...</td>\n      <td>Dramas</td>\n    </tr>\n    <tr>\n      <th>2</th>\n      <td>s3</td>\n      <td>Movie</td>\n      <td>23:59</td>\n      <td>Gilbert Chan</td>\n      <td>Tedd Chan, Stella Chung, Henley Hii, Lawrence ...</td>\n      <td>Singapore</td>\n      <td>December 20, 2018</td>\n      <td>2011</td>\n      <td>78</td>\n      <td>When an army recruit is found dead, his fellow...</td>\n      <td>Horror Movies</td>\n    </tr>\n    <tr>\n      <th>3</th>\n      <td>s4</td>\n      <td>Movie</td>\n      <td>9</td>\n      <td>Shane Acker</td>\n      <td>Elijah Wood, John C. Reilly, Jennifer Connelly...</td>\n      <td>United States</td>\n      <td>November 16, 2017</td>\n      <td>2009</td>\n      <td>80</td>\n      <td>In a postapocalyptic world, rag-doll robots hi...</td>\n      <td>Action</td>\n    </tr>\n    <tr>\n      <th>4</th>\n      <td>s5</td>\n      <td>Movie</td>\n      <td>21</td>\n      <td>Robert Luketic</td>\n      <td>Jim Sturgess, Kevin Spacey, Kate Bosworth, Aar...</td>\n      <td>United States</td>\n      <td>January 1, 2020</td>\n      <td>2008</td>\n      <td>123</td>\n      <td>A brilliant group of students become card-coun...</td>\n      <td>Dramas</td>\n    </tr>\n    <tr>\n      <th>...</th>\n      <td>...</td>\n      <td>...</td>\n      <td>...</td>\n      <td>...</td>\n      <td>...</td>\n      <td>...</td>\n      <td>...</td>\n      <td>...</td>\n      <td>...</td>\n      <td>...</td>\n      <td>...</td>\n    </tr>\n    <tr>\n      <th>7782</th>\n      <td>s7783</td>\n      <td>Movie</td>\n      <td>Zozo</td>\n      <td>Josef Fares</td>\n      <td>Imad Creidi, Antoinette Turk, Elias Gergi, Car...</td>\n      <td>Sweden</td>\n      <td>October 19, 2020</td>\n      <td>2005</td>\n      <td>99</td>\n      <td>When Lebanon's Civil War deprives Zozo of his ...</td>\n      <td>Dramas</td>\n    </tr>\n    <tr>\n      <th>7783</th>\n      <td>s7784</td>\n      <td>Movie</td>\n      <td>Zubaan</td>\n      <td>Mozez Singh</td>\n      <td>Vicky Kaushal, Sarah-Jane Dias, Raaghav Chanan...</td>\n      <td>India</td>\n      <td>March 2, 2019</td>\n      <td>2015</td>\n      <td>111</td>\n      <td>A scrappy but poor boy worms his way into a ty...</td>\n      <td>Dramas</td>\n    </tr>\n    <tr>\n      <th>7784</th>\n      <td>s7785</td>\n      <td>Movie</td>\n      <td>Zulu Man in Japan</td>\n      <td>NaN</td>\n      <td>Nasty C</td>\n      <td>NaN</td>\n      <td>September 25, 2020</td>\n      <td>2019</td>\n      <td>44</td>\n      <td>In this documentary, South African rapper Nast...</td>\n      <td>Documentaries</td>\n    </tr>\n    <tr>\n      <th>7785</th>\n      <td>s7786</td>\n      <td>TV Show</td>\n      <td>Zumbo's Just Desserts</td>\n      <td>NaN</td>\n      <td>Adriano Zumbo, Rachel Khoo</td>\n      <td>Australia</td>\n      <td>October 31, 2020</td>\n      <td>2019</td>\n      <td>1</td>\n      <td>Dessert wizard Adriano Zumbo looks for the nex...</td>\n      <td>International TV</td>\n    </tr>\n    <tr>\n      <th>7786</th>\n      <td>s7787</td>\n      <td>Movie</td>\n      <td>ZZ TOP: THAT LITTLE OL' BAND FROM TEXAS</td>\n      <td>Sam Dunn</td>\n      <td>NaN</td>\n      <td>United Kingdom</td>\n      <td>March 1, 2020</td>\n      <td>2019</td>\n      <td>90</td>\n      <td>This documentary delves into the mystique behi...</td>\n      <td>Documentaries</td>\n    </tr>\n  </tbody>\n</table>\n<p>7787 rows × 11 columns</p>\n</div>"
     },
     "metadata": {}
    }
   ]
  },
  {
   "cell_type": "markdown",
   "source": "## 5. Filtering for movies!\n<p>Okay, we have our data! Now we can dive in and start looking at movie lengths. </p>\n<p>Or can we? Looking at the first five rows of our new DataFrame, we notice a column <code>type</code>. Scanning the column, it's clear there are also TV shows in the dataset! Moreover, the <code>duration</code> column we planned to use seems to represent different values depending on whether the row is a movie or a show (perhaps the number of minutes versus the number of seasons)?</p>\n<p>Fortunately, a DataFrame allows us to filter data quickly, and we can select rows where <code>type</code> is <code>Movie</code>. While we're at it, we don't need information from all of the columns, so let's create a new DataFrame <code>netflix_movies</code> containing only <code>title</code>, <code>country</code>, <code>genre</code>, <code>release_year</code>, and <code>duration</code>.</p>\n<p>Let's put our data subsetting skills to work!</p>\n\n\n\n---\n\n\n\n---\n\n\n\n---\n\n## 5. Filtrado de películas\nBien, ¡ya tenemos nuestros datos! Ahora podemos sumergirnos y empezar a ver la duración de las películas.\n\n¿O no? Mirando las primeras cinco filas de nuestro nuevo DataFrame, nos damos cuenta de que hay un `type` de columna. Al examinar la columna, queda claro que también hay programas de televisión en el conjunto de datos. Además, la columna de `duration` que pensábamos utilizar parece representar valores diferentes según se trate de una película o de un programa (¿quizás el número de minutos frente al número de temporadas?)\n\nAfortunadamente, un DataFrame nos permite filtrar los datos rápidamente, y podemos seleccionar las filas en las que el `type` es `movie`. Ya que estamos, no necesitamos la información de todas las columnas, así que vamos a crear un nuevo DataFrame `netflix_movies` que contenga sólo el `title`, `country`, el `genre`, el `release_year` y la `duration`.\n\nPongamos a trabajar nuestras habilidades de subconjunto de datos.",
   "metadata": {
    "dc": {
     "key": "32"
    },
    "deletable": false,
    "editable": false,
    "run_control": {
     "frozen": true
    },
    "tags": [
     "context"
    ],
    "id": "Mli1rw1QOoyh",
    "cell_id": "00008-5ab4226a-f081-4406-a9dc-c101815f8695",
    "deepnote_app_coordinates": {
     "x": 0,
     "y": 329,
     "w": 12,
     "h": 66
    },
    "deepnote_cell_type": "markdown",
    "deepnote_cell_height": 635.796875
   }
  },
  {
   "cell_type": "code",
   "metadata": {
    "dc": {
     "key": "32"
    },
    "tags": [
     "sample_code"
    ],
    "trusted": true,
    "id": "_wPu2YwnOoyj",
    "cell_id": "00009-9995c981-6417-4a26-83b3-41b1a0f13e68",
    "deepnote_to_be_reexecuted": false,
    "source_hash": "c654ea01",
    "execution_start": 1652539749271,
    "execution_millis": 37,
    "deepnote_app_coordinates": {
     "x": 0,
     "y": 396,
     "w": 12,
     "h": 22
    },
    "deepnote_cell_type": "code",
    "deepnote_cell_height": 521
   },
   "source": "# Subset the DataFrame for type \"Movie\"\nnetflix_df_movies_only = netflix_df[netflix_df['type'] == 'Movie']\n\n# Select only the columns of interest\nnetflix_movies_col_subset = netflix_df_movies_only[['title','country','genre','release_year','duration']]\n\n# Print the first five rows of the new DataFrame\nnetflix_movies_col_subset.head(5)",
   "execution_count": null,
   "outputs": [
    {
     "output_type": "execute_result",
     "execution_count": 26,
     "data": {
      "application/vnd.deepnote.dataframe.v3+json": {
       "column_count": 5,
       "row_count": 5,
       "columns": [
        {
         "name": "title",
         "dtype": "object",
         "stats": {
          "unique_count": 5,
          "nan_count": 0,
          "categories": [
           {
            "name": "7:19",
            "count": 1
           },
           {
            "name": "23:59",
            "count": 1
           },
           {
            "name": "3 others",
            "count": 3
           }
          ]
         }
        },
        {
         "name": "country",
         "dtype": "object",
         "stats": {
          "unique_count": 4,
          "nan_count": 0,
          "categories": [
           {
            "name": "United States",
            "count": 2
           },
           {
            "name": "Mexico",
            "count": 1
           },
           {
            "name": "2 others",
            "count": 2
           }
          ]
         }
        },
        {
         "name": "genre",
         "dtype": "object",
         "stats": {
          "unique_count": 3,
          "nan_count": 0,
          "categories": [
           {
            "name": "Dramas",
            "count": 2
           },
           {
            "name": "Horror Movies",
            "count": 2
           },
           {
            "name": "Action",
            "count": 1
           }
          ]
         }
        },
        {
         "name": "release_year",
         "dtype": "int64",
         "stats": {
          "unique_count": 5,
          "nan_count": 0,
          "min": "2008",
          "max": "2019",
          "histogram": [
           {
            "bin_start": 2008,
            "bin_end": 2009.1,
            "count": 2
           },
           {
            "bin_start": 2009.1,
            "bin_end": 2010.2,
            "count": 0
           },
           {
            "bin_start": 2010.2,
            "bin_end": 2011.3,
            "count": 1
           },
           {
            "bin_start": 2011.3,
            "bin_end": 2012.4,
            "count": 0
           },
           {
            "bin_start": 2012.4,
            "bin_end": 2013.5,
            "count": 0
           },
           {
            "bin_start": 2013.5,
            "bin_end": 2014.6,
            "count": 0
           },
           {
            "bin_start": 2014.6,
            "bin_end": 2015.7,
            "count": 0
           },
           {
            "bin_start": 2015.7,
            "bin_end": 2016.8,
            "count": 1
           },
           {
            "bin_start": 2016.8,
            "bin_end": 2017.9,
            "count": 0
           },
           {
            "bin_start": 2017.9,
            "bin_end": 2019,
            "count": 1
           }
          ]
         }
        },
        {
         "name": "duration",
         "dtype": "int64",
         "stats": {
          "unique_count": 5,
          "nan_count": 0,
          "min": "78",
          "max": "123",
          "histogram": [
           {
            "bin_start": 78,
            "bin_end": 82.5,
            "count": 2
           },
           {
            "bin_start": 82.5,
            "bin_end": 87,
            "count": 0
           },
           {
            "bin_start": 87,
            "bin_end": 91.5,
            "count": 0
           },
           {
            "bin_start": 91.5,
            "bin_end": 96,
            "count": 2
           },
           {
            "bin_start": 96,
            "bin_end": 100.5,
            "count": 0
           },
           {
            "bin_start": 100.5,
            "bin_end": 105,
            "count": 0
           },
           {
            "bin_start": 105,
            "bin_end": 109.5,
            "count": 0
           },
           {
            "bin_start": 109.5,
            "bin_end": 114,
            "count": 0
           },
           {
            "bin_start": 114,
            "bin_end": 118.5,
            "count": 0
           },
           {
            "bin_start": 118.5,
            "bin_end": 123,
            "count": 1
           }
          ]
         }
        },
        {
         "name": "_deepnote_index_column",
         "dtype": "int64"
        }
       ],
       "rows": [
        {
         "title": "7:19",
         "country": "Mexico",
         "genre": "Dramas",
         "release_year": 2016,
         "duration": 93,
         "_deepnote_index_column": 1
        },
        {
         "title": "23:59",
         "country": "Singapore",
         "genre": "Horror Movies",
         "release_year": 2011,
         "duration": 78,
         "_deepnote_index_column": 2
        },
        {
         "title": "9",
         "country": "United States",
         "genre": "Action",
         "release_year": 2009,
         "duration": 80,
         "_deepnote_index_column": 3
        },
        {
         "title": "21",
         "country": "United States",
         "genre": "Dramas",
         "release_year": 2008,
         "duration": 123,
         "_deepnote_index_column": 4
        },
        {
         "title": "122",
         "country": "Egypt",
         "genre": "Horror Movies",
         "release_year": 2019,
         "duration": 95,
         "_deepnote_index_column": 6
        }
       ]
      },
      "text/plain": "   title        country          genre  release_year  duration\n1   7:19         Mexico         Dramas          2016        93\n2  23:59      Singapore  Horror Movies          2011        78\n3      9  United States         Action          2009        80\n4     21  United States         Dramas          2008       123\n6    122          Egypt  Horror Movies          2019        95",
      "text/html": "<div>\n<style scoped>\n    .dataframe tbody tr th:only-of-type {\n        vertical-align: middle;\n    }\n\n    .dataframe tbody tr th {\n        vertical-align: top;\n    }\n\n    .dataframe thead th {\n        text-align: right;\n    }\n</style>\n<table border=\"1\" class=\"dataframe\">\n  <thead>\n    <tr style=\"text-align: right;\">\n      <th></th>\n      <th>title</th>\n      <th>country</th>\n      <th>genre</th>\n      <th>release_year</th>\n      <th>duration</th>\n    </tr>\n  </thead>\n  <tbody>\n    <tr>\n      <th>1</th>\n      <td>7:19</td>\n      <td>Mexico</td>\n      <td>Dramas</td>\n      <td>2016</td>\n      <td>93</td>\n    </tr>\n    <tr>\n      <th>2</th>\n      <td>23:59</td>\n      <td>Singapore</td>\n      <td>Horror Movies</td>\n      <td>2011</td>\n      <td>78</td>\n    </tr>\n    <tr>\n      <th>3</th>\n      <td>9</td>\n      <td>United States</td>\n      <td>Action</td>\n      <td>2009</td>\n      <td>80</td>\n    </tr>\n    <tr>\n      <th>4</th>\n      <td>21</td>\n      <td>United States</td>\n      <td>Dramas</td>\n      <td>2008</td>\n      <td>123</td>\n    </tr>\n    <tr>\n      <th>6</th>\n      <td>122</td>\n      <td>Egypt</td>\n      <td>Horror Movies</td>\n      <td>2019</td>\n      <td>95</td>\n    </tr>\n  </tbody>\n</table>\n</div>"
     },
     "metadata": {}
    }
   ]
  },
  {
   "cell_type": "markdown",
   "source": "## 6. Creating a scatter plot\n<p>Okay, now we're getting somewhere. We've read in the raw data, selected rows of movies, and have limited our DataFrame to our columns of interest. Let's try visualizing the data again to inspect the data over a longer range of time.</p>\n<p>This time, we are no longer working with aggregates but instead with individual movies. A line plot is no longer a good choice for our data, so let's try a scatter plot instead. We will again plot the year of release on the x-axis and the movie duration on the y-axis.</p>\n<p><em>Note: Although not taught in Intermediate Python, we have provided you the code <code>fig = plt.figure(figsize=(12,8))</code> to increase the size of the plot (to help you see the results), as well as to assist with testing. For more information on how to create or work with a <code>matplotlib</code> <code>figure</code>, refer to the <a href=\"https://matplotlib.org/stable/api/_as_gen/matplotlib.pyplot.figure.html\">documentation</a>.</em></p>\n\n\n\n---\n\n\n\n---\n\n\n\n---\n\n## 6. Crear un gráfico de dispersión\nBien, ahora estamos llegando a alguna parte. Hemos leído los datos en bruto, hemos seleccionado filas de películas y hemos limitado nuestro DataFrame a nuestras columnas de interés. Intentemos visualizar los datos de nuevo para inspeccionar los datos en un rango de tiempo más largo.\n\nEsta vez, ya no estamos trabajando con agregados sino con películas individuales. Un gráfico de líneas ya no es una buena opción para nuestros datos, así que vamos a probar con un gráfico de dispersión. De nuevo vamos a trazar el año de estreno en el eje x y la duración de la película en el eje y.\n\nNota: Aunque no se enseña en Python Intermedio, le hemos proporcionado el código `fig = plt.figure(figsize=(12,8))` para aumentar el tamaño del gráfico (para ayudarle a ver los resultados), así como para ayudarle con las pruebas. Para más información sobre cómo crear o trabajar con una figura de `matplotlib`, consulte la [documentación](https://matplotlib.org/stable/api/_as_gen/matplotlib.pyplot.figure.html).",
   "metadata": {
    "dc": {
     "key": "39"
    },
    "deletable": false,
    "editable": false,
    "run_control": {
     "frozen": true
    },
    "tags": [
     "context"
    ],
    "id": "ScAW0IDxOoyk",
    "cell_id": "00010-8f65d4f1-9b2d-4b26-a0d5-d4c66dd0125b",
    "deepnote_app_coordinates": {
     "x": 0,
     "y": 419,
     "w": 12,
     "h": 66
    },
    "deepnote_cell_type": "markdown",
    "deepnote_cell_height": 607.796875
   }
  },
  {
   "cell_type": "code",
   "metadata": {
    "dc": {
     "key": "39"
    },
    "tags": [
     "sample_code"
    ],
    "trusted": true,
    "id": "nQXgr-yoOoyk",
    "cell_id": "00011-3a418ff5-3475-4576-93fd-dd72ce1205c3",
    "deepnote_to_be_reexecuted": false,
    "source_hash": "3c63d1a0",
    "execution_start": 1652540242003,
    "execution_millis": 339,
    "deepnote_app_coordinates": {
     "x": 0,
     "y": 486,
     "w": 12,
     "h": 19
    },
    "deepnote_cell_type": "code",
    "deepnote_cell_height": 815,
    "deepnote_output_heights": [
     484
    ]
   },
   "source": "# Create a figure and increase the figure size\nfig = plt.figure(figsize=(12,8))\n\n# Create a scatter plot of duration versus year\nplt.scatter(netflix_movies_col_subset['duration'],netflix_movies_col_subset['release_year'])\n\n# Create a title\nplt.title('Movie Duration by Year of Release')\n\n# Show the plot\nplt.show()\n\n\n# Los gráficos de dispersión nos permite ver más fácilmente valores atípicos",
   "execution_count": null,
   "outputs": [
    {
     "data": {
      "text/plain": "<Figure size 864x576 with 1 Axes>",
      "image/png": "[encoded data removed]"
     },
     "metadata": {
      "needs_background": "light",
      "image/png": {
       "width": 716,
       "height": 482
      }
     },
     "output_type": "display_data"
    }
   ]
  },
  {
   "cell_type": "markdown",
   "source": "## 7. Digging deeper\n<p>This is already much more informative than the simple plot we created when our friend first gave us some data. We can also see that, while newer movies are overrepresented on the platform, many short movies have been released in the past two decades.</p>\n<p>Upon further inspection, something else is going on. Some of these films are under an hour long! Let's filter our DataFrame for movies with a <code>duration</code> under 60 minutes and look at the genres. This might give us some insight into what is dragging down the average.</p>\n\n\n\n---\n\n\n\n---\n\n\n\n---\n\n## 7. Profundizando\nEsto ya es mucho más informativo que el simple gráfico que creamos cuando nuestro amigo nos dio los primeros datos. También podemos ver que, aunque las películas más nuevas están sobrerrepresentadas en la plataforma, se han estrenado muchos cortometrajes en las dos últimas décadas.\n\nSi miramos con más detenimiento, ocurre algo más. Algunas de estas películas duran menos de una hora. Filtremos nuestro DataFrame en busca de películas con una `duration` inferior a 60 minutos y observemos los géneros. Esto podría darnos una idea de lo que está arrastrando la media.",
   "metadata": {
    "dc": {
     "key": "46"
    },
    "deletable": false,
    "editable": false,
    "run_control": {
     "frozen": true
    },
    "tags": [
     "context"
    ],
    "id": "OzjHsfwhOoyl",
    "cell_id": "00012-352ec3fe-60f7-45ab-a835-24e65ad16c9e",
    "deepnote_app_coordinates": {
     "x": 0,
     "y": 506,
     "w": 12,
     "h": 43
    },
    "deepnote_cell_type": "markdown",
    "deepnote_cell_height": 445.390625
   }
  },
  {
   "cell_type": "code",
   "metadata": {
    "dc": {
     "key": "46"
    },
    "tags": [
     "sample_code"
    ],
    "trusted": true,
    "id": "JlhGiV4WOoym",
    "cell_id": "00013-6fde57aa-00ba-4a5a-8b04-7d95e2a0d9a9",
    "deepnote_to_be_reexecuted": false,
    "source_hash": "356b6102",
    "execution_start": 1652540771526,
    "execution_millis": 738,
    "deepnote_app_coordinates": {
     "x": 0,
     "y": 550,
     "w": 12,
     "h": 14
    },
    "deepnote_cell_type": "code",
    "deepnote_cell_height": 303
   },
   "source": "# Filter for durations longer than 300 minutes\nlonger_movie = netflix_movies_col_subset[netflix_movies_col_subset['duration'] > 300]\n\n# Print longer_movie\nlonger_movie",
   "execution_count": null,
   "outputs": [
    {
     "output_type": "execute_result",
     "execution_count": 28,
     "data": {
      "application/vnd.deepnote.dataframe.v3+json": {
       "column_count": 5,
       "row_count": 1,
       "columns": [
        {
         "name": "title",
         "dtype": "object",
         "stats": {
          "unique_count": 1,
          "nan_count": 0,
          "categories": [
           {
            "name": "Black Mirror: Bandersnatch",
            "count": 1
           }
          ]
         }
        },
        {
         "name": "country",
         "dtype": "object",
         "stats": {
          "unique_count": 1,
          "nan_count": 0,
          "categories": [
           {
            "name": "United States",
            "count": 1
           }
          ]
         }
        },
        {
         "name": "genre",
         "dtype": "object",
         "stats": {
          "unique_count": 1,
          "nan_count": 0,
          "categories": [
           {
            "name": "Dramas",
            "count": 1
           }
          ]
         }
        },
        {
         "name": "release_year",
         "dtype": "int64",
         "stats": {
          "unique_count": 1,
          "nan_count": 0,
          "min": "2018",
          "max": "2018",
          "histogram": [
           {
            "bin_start": 2017.5,
            "bin_end": 2017.6,
            "count": 0
           },
           {
            "bin_start": 2017.6,
            "bin_end": 2017.7,
            "count": 0
           },
           {
            "bin_start": 2017.7,
            "bin_end": 2017.8,
            "count": 0
           },
           {
            "bin_start": 2017.8,
            "bin_end": 2017.9,
            "count": 0
           },
           {
            "bin_start": 2017.9,
            "bin_end": 2018,
            "count": 0
           },
           {
            "bin_start": 2018,
            "bin_end": 2018.1,
            "count": 1
           },
           {
            "bin_start": 2018.1,
            "bin_end": 2018.2,
            "count": 0
           },
           {
            "bin_start": 2018.2,
            "bin_end": 2018.3,
            "count": 0
           },
           {
            "bin_start": 2018.3,
            "bin_end": 2018.4,
            "count": 0
           },
           {
            "bin_start": 2018.4,
            "bin_end": 2018.5,
            "count": 0
           }
          ]
         }
        },
        {
         "name": "duration",
         "dtype": "int64",
         "stats": {
          "unique_count": 1,
          "nan_count": 0,
          "min": "312",
          "max": "312",
          "histogram": [
           {
            "bin_start": 311.5,
            "bin_end": 311.6,
            "count": 0
           },
           {
            "bin_start": 311.6,
            "bin_end": 311.7,
            "count": 0
           },
           {
            "bin_start": 311.7,
            "bin_end": 311.8,
            "count": 0
           },
           {
            "bin_start": 311.8,
            "bin_end": 311.9,
            "count": 0
           },
           {
            "bin_start": 311.9,
            "bin_end": 312,
            "count": 0
           },
           {
            "bin_start": 312,
            "bin_end": 312.1,
            "count": 1
           },
           {
            "bin_start": 312.1,
            "bin_end": 312.2,
            "count": 0
           },
           {
            "bin_start": 312.2,
            "bin_end": 312.3,
            "count": 0
           },
           {
            "bin_start": 312.3,
            "bin_end": 312.4,
            "count": 0
           },
           {
            "bin_start": 312.4,
            "bin_end": 312.5,
            "count": 0
           }
          ]
         }
        },
        {
         "name": "_deepnote_index_column",
         "dtype": "int64"
        }
       ],
       "rows": [
        {
         "title": "Black Mirror: Bandersnatch",
         "country": "United States",
         "genre": "Dramas",
         "release_year": 2018,
         "duration": 312,
         "_deepnote_index_column": 957
        }
       ]
      },
      "text/plain": "                          title        country   genre  release_year  duration\n957  Black Mirror: Bandersnatch  United States  Dramas          2018       312",
      "text/html": "<div>\n<style scoped>\n    .dataframe tbody tr th:only-of-type {\n        vertical-align: middle;\n    }\n\n    .dataframe tbody tr th {\n        vertical-align: top;\n    }\n\n    .dataframe thead th {\n        text-align: right;\n    }\n</style>\n<table border=\"1\" class=\"dataframe\">\n  <thead>\n    <tr style=\"text-align: right;\">\n      <th></th>\n      <th>title</th>\n      <th>country</th>\n      <th>genre</th>\n      <th>release_year</th>\n      <th>duration</th>\n    </tr>\n  </thead>\n  <tbody>\n    <tr>\n      <th>957</th>\n      <td>Black Mirror: Bandersnatch</td>\n      <td>United States</td>\n      <td>Dramas</td>\n      <td>2018</td>\n      <td>312</td>\n    </tr>\n  </tbody>\n</table>\n</div>"
     },
     "metadata": {}
    }
   ]
  },
  {
   "cell_type": "code",
   "metadata": {
    "cell_id": "de8343f0c3f84219919f2ee10d53823a",
    "tags": [],
    "deepnote_to_be_reexecuted": false,
    "source_hash": "86d084f4",
    "execution_start": 1652540966756,
    "execution_millis": 112,
    "deepnote_app_coordinates": {
     "x": 0,
     "y": 565,
     "w": 12,
     "h": 28
    },
    "deepnote_cell_type": "code",
    "deepnote_cell_height": 672
   },
   "source": "# Filter for durations shorter than 60 minutes\nshort_movies = netflix_movies_col_subset[netflix_movies_col_subset['duration'] < 60]\n\n# Print the first 20 rows of short_movies\nshort_movies.head(20)",
   "execution_count": null,
   "outputs": [
    {
     "output_type": "execute_result",
     "execution_count": 30,
     "data": {
      "application/vnd.deepnote.dataframe.v3+json": {
       "column_count": 5,
       "row_count": 20,
       "columns": [
        {
         "name": "title",
         "dtype": "object",
         "stats": {
          "unique_count": 20,
          "nan_count": 0,
          "categories": [
           {
            "name": "#Rucker50",
            "count": 1
           },
           {
            "name": "100 Things to do Before High School",
            "count": 1
           },
           {
            "name": "18 others",
            "count": 18
           }
          ]
         }
        },
        {
         "name": "country",
         "dtype": "object",
         "stats": {
          "unique_count": 5,
          "nan_count": 4,
          "categories": [
           {
            "name": "United States",
            "count": 11
           },
           {
            "name": "4 others",
            "count": 5
           },
           {
            "name": "Missing",
            "count": 4
           }
          ]
         }
        },
        {
         "name": "genre",
         "dtype": "object",
         "stats": {
          "unique_count": 6,
          "nan_count": 0,
          "categories": [
           {
            "name": "Documentaries",
            "count": 6
           },
           {
            "name": "Children",
            "count": 6
           },
           {
            "name": "4 others",
            "count": 8
           }
          ]
         }
        },
        {
         "name": "release_year",
         "dtype": "int64",
         "stats": {
          "unique_count": 10,
          "nan_count": 0,
          "min": "2011",
          "max": "2020",
          "histogram": [
           {
            "bin_start": 2011,
            "bin_end": 2011.9,
            "count": 1
           },
           {
            "bin_start": 2011.9,
            "bin_end": 2012.8,
            "count": 1
           },
           {
            "bin_start": 2012.8,
            "bin_end": 2013.7,
            "count": 1
           },
           {
            "bin_start": 2013.7,
            "bin_end": 2014.6,
            "count": 1
           },
           {
            "bin_start": 2014.6,
            "bin_end": 2015.5,
            "count": 2
           },
           {
            "bin_start": 2015.5,
            "bin_end": 2016.4,
            "count": 2
           },
           {
            "bin_start": 2016.4,
            "bin_end": 2017.3,
            "count": 2
           },
           {
            "bin_start": 2017.3,
            "bin_end": 2018.2,
            "count": 1
           },
           {
            "bin_start": 2018.2,
            "bin_end": 2019.1,
            "count": 4
           },
           {
            "bin_start": 2019.1,
            "bin_end": 2020,
            "count": 5
           }
          ]
         }
        },
        {
         "name": "duration",
         "dtype": "int64",
         "stats": {
          "unique_count": 14,
          "nan_count": 0,
          "min": "20",
          "max": "59",
          "histogram": [
           {
            "bin_start": 20,
            "bin_end": 23.9,
            "count": 5
           },
           {
            "bin_start": 23.9,
            "bin_end": 27.8,
            "count": 2
           },
           {
            "bin_start": 27.8,
            "bin_end": 31.7,
            "count": 4
           },
           {
            "bin_start": 31.7,
            "bin_end": 35.6,
            "count": 0
           },
           {
            "bin_start": 35.6,
            "bin_end": 39.5,
            "count": 1
           },
           {
            "bin_start": 39.5,
            "bin_end": 43.4,
            "count": 0
           },
           {
            "bin_start": 43.4,
            "bin_end": 47.3,
            "count": 3
           },
           {
            "bin_start": 47.3,
            "bin_end": 51.2,
            "count": 0
           },
           {
            "bin_start": 51.2,
            "bin_end": 55.1,
            "count": 1
           },
           {
            "bin_start": 55.1,
            "bin_end": 59,
            "count": 4
           }
          ]
         }
        },
        {
         "name": "_deepnote_index_column",
         "dtype": "int64"
        }
       ],
       "rows": [
        {
         "title": "#Rucker50",
         "country": "United States",
         "genre": "Documentaries",
         "release_year": 2016,
         "duration": 56,
         "_deepnote_index_column": 35
        },
        {
         "title": "100 Things to do Before High School",
         "country": "United States",
         "genre": "Uncategorized",
         "release_year": 2014,
         "duration": 44,
         "_deepnote_index_column": 55
        },
        {
         "title": "13TH: A Conversation with Oprah Winfrey & Ava DuVernay",
         "country": "nan",
         "genre": "Uncategorized",
         "release_year": 2017,
         "duration": 37,
         "_deepnote_index_column": 67
        },
        {
         "title": "3 Seconds Divorce",
         "country": "Canada",
         "genre": "Documentaries",
         "release_year": 2018,
         "duration": 53,
         "_deepnote_index_column": 101
        },
        {
         "title": "A 3 Minute Hug",
         "country": "Mexico",
         "genre": "Documentaries",
         "release_year": 2019,
         "duration": 28,
         "_deepnote_index_column": 146
        },
        {
         "title": "A Christmas Special: Miraculous: Tales of Ladybug & Cat Noir",
         "country": "France",
         "genre": "Uncategorized",
         "release_year": 2016,
         "duration": 22,
         "_deepnote_index_column": 162
        },
        {
         "title": "A Family Reunion Christmas",
         "country": "United States",
         "genre": "Uncategorized",
         "release_year": 2019,
         "duration": 29,
         "_deepnote_index_column": 171
        },
        {
         "title": "A Go! Go! Cory Carson Christmas",
         "country": "United States",
         "genre": "Children",
         "release_year": 2020,
         "duration": 22,
         "_deepnote_index_column": 177
        },
        {
         "title": "A Go! Go! Cory Carson Halloween",
         "country": "nan",
         "genre": "Children",
         "release_year": 2020,
         "duration": 22,
         "_deepnote_index_column": 178
        },
        {
         "title": "A Go! Go! Cory Carson Summer Camp",
         "country": "nan",
         "genre": "Children",
         "release_year": 2020,
         "duration": 21,
         "_deepnote_index_column": 179
        }
       ]
      },
      "text/plain": "                                                 title         country  \\\n35                                           #Rucker50   United States   \n55                 100 Things to do Before High School   United States   \n67   13TH: A Conversation with Oprah Winfrey & Ava ...             NaN   \n101                                  3 Seconds Divorce          Canada   \n146                                     A 3 Minute Hug          Mexico   \n162  A Christmas Special: Miraculous: Tales of Lady...          France   \n171                         A Family Reunion Christmas   United States   \n177                    A Go! Go! Cory Carson Christmas   United States   \n178                    A Go! Go! Cory Carson Halloween             NaN   \n179                  A Go! Go! Cory Carson Summer Camp             NaN   \n181             A Grand Night In: The Story of Aardman  United Kingdom   \n200                            A Love Song for Latasha   United States   \n220                         A Russell Peters Christmas          Canada   \n233                              A StoryBots Christmas   United States   \n237                             A Tale of Two Kitchens   United States   \n242                            A Trash Truck Christmas             NaN   \n247                            A Very Murray Christmas   United States   \n285                               Abominable Christmas   United States   \n295                                 Across Grace Alley   United States   \n305                Adam Devine: Best Time of Our Lives   United States   \n\n             genre  release_year  duration  \n35   Documentaries          2016        56  \n55   Uncategorized          2014        44  \n67   Uncategorized          2017        37  \n101  Documentaries          2018        53  \n146  Documentaries          2019        28  \n162  Uncategorized          2016        22  \n171  Uncategorized          2019        29  \n177       Children          2020        22  \n178       Children          2020        22  \n179       Children          2020        21  \n181  Documentaries          2015        59  \n200  Documentaries          2020        20  \n220       Stand-Up          2011        44  \n233       Children          2017        26  \n237  Documentaries          2019        30  \n242       Children          2020        28  \n247       Comedies          2015        57  \n285       Children          2012        44  \n295         Dramas          2013        24  \n305       Stand-Up          2019        59  ",
      "text/html": "<div>\n<style scoped>\n    .dataframe tbody tr th:only-of-type {\n        vertical-align: middle;\n    }\n\n    .dataframe tbody tr th {\n        vertical-align: top;\n    }\n\n    .dataframe thead th {\n        text-align: right;\n    }\n</style>\n<table border=\"1\" class=\"dataframe\">\n  <thead>\n    <tr style=\"text-align: right;\">\n      <th></th>\n      <th>title</th>\n      <th>country</th>\n      <th>genre</th>\n      <th>release_year</th>\n      <th>duration</th>\n    </tr>\n  </thead>\n  <tbody>\n    <tr>\n      <th>35</th>\n      <td>#Rucker50</td>\n      <td>United States</td>\n      <td>Documentaries</td>\n      <td>2016</td>\n      <td>56</td>\n    </tr>\n    <tr>\n      <th>55</th>\n      <td>100 Things to do Before High School</td>\n      <td>United States</td>\n      <td>Uncategorized</td>\n      <td>2014</td>\n      <td>44</td>\n    </tr>\n    <tr>\n      <th>67</th>\n      <td>13TH: A Conversation with Oprah Winfrey &amp; Ava ...</td>\n      <td>NaN</td>\n      <td>Uncategorized</td>\n      <td>2017</td>\n      <td>37</td>\n    </tr>\n    <tr>\n      <th>101</th>\n      <td>3 Seconds Divorce</td>\n      <td>Canada</td>\n      <td>Documentaries</td>\n      <td>2018</td>\n      <td>53</td>\n    </tr>\n    <tr>\n      <th>146</th>\n      <td>A 3 Minute Hug</td>\n      <td>Mexico</td>\n      <td>Documentaries</td>\n      <td>2019</td>\n      <td>28</td>\n    </tr>\n    <tr>\n      <th>162</th>\n      <td>A Christmas Special: Miraculous: Tales of Lady...</td>\n      <td>France</td>\n      <td>Uncategorized</td>\n      <td>2016</td>\n      <td>22</td>\n    </tr>\n    <tr>\n      <th>171</th>\n      <td>A Family Reunion Christmas</td>\n      <td>United States</td>\n      <td>Uncategorized</td>\n      <td>2019</td>\n      <td>29</td>\n    </tr>\n    <tr>\n      <th>177</th>\n      <td>A Go! Go! Cory Carson Christmas</td>\n      <td>United States</td>\n      <td>Children</td>\n      <td>2020</td>\n      <td>22</td>\n    </tr>\n    <tr>\n      <th>178</th>\n      <td>A Go! Go! Cory Carson Halloween</td>\n      <td>NaN</td>\n      <td>Children</td>\n      <td>2020</td>\n      <td>22</td>\n    </tr>\n    <tr>\n      <th>179</th>\n      <td>A Go! Go! Cory Carson Summer Camp</td>\n      <td>NaN</td>\n      <td>Children</td>\n      <td>2020</td>\n      <td>21</td>\n    </tr>\n    <tr>\n      <th>181</th>\n      <td>A Grand Night In: The Story of Aardman</td>\n      <td>United Kingdom</td>\n      <td>Documentaries</td>\n      <td>2015</td>\n      <td>59</td>\n    </tr>\n    <tr>\n      <th>200</th>\n      <td>A Love Song for Latasha</td>\n      <td>United States</td>\n      <td>Documentaries</td>\n      <td>2020</td>\n      <td>20</td>\n    </tr>\n    <tr>\n      <th>220</th>\n      <td>A Russell Peters Christmas</td>\n      <td>Canada</td>\n      <td>Stand-Up</td>\n      <td>2011</td>\n      <td>44</td>\n    </tr>\n    <tr>\n      <th>233</th>\n      <td>A StoryBots Christmas</td>\n      <td>United States</td>\n      <td>Children</td>\n      <td>2017</td>\n      <td>26</td>\n    </tr>\n    <tr>\n      <th>237</th>\n      <td>A Tale of Two Kitchens</td>\n      <td>United States</td>\n      <td>Documentaries</td>\n      <td>2019</td>\n      <td>30</td>\n    </tr>\n    <tr>\n      <th>242</th>\n      <td>A Trash Truck Christmas</td>\n      <td>NaN</td>\n      <td>Children</td>\n      <td>2020</td>\n      <td>28</td>\n    </tr>\n    <tr>\n      <th>247</th>\n      <td>A Very Murray Christmas</td>\n      <td>United States</td>\n      <td>Comedies</td>\n      <td>2015</td>\n      <td>57</td>\n    </tr>\n    <tr>\n      <th>285</th>\n      <td>Abominable Christmas</td>\n      <td>United States</td>\n      <td>Children</td>\n      <td>2012</td>\n      <td>44</td>\n    </tr>\n    <tr>\n      <th>295</th>\n      <td>Across Grace Alley</td>\n      <td>United States</td>\n      <td>Dramas</td>\n      <td>2013</td>\n      <td>24</td>\n    </tr>\n    <tr>\n      <th>305</th>\n      <td>Adam Devine: Best Time of Our Lives</td>\n      <td>United States</td>\n      <td>Stand-Up</td>\n      <td>2019</td>\n      <td>59</td>\n    </tr>\n  </tbody>\n</table>\n</div>"
     },
     "metadata": {}
    }
   ]
  },
  {
   "cell_type": "markdown",
   "source": "## 8. Marking non-feature films\n<p>Interesting! It looks as though many of the films that are under 60 minutes fall into genres such as \"Children\", \"Stand-Up\", and \"Documentaries\". This is a logical result, as these types of films are probably often shorter than 90 minute Hollywood blockbuster. </p>\n<p>We could eliminate these rows from our DataFrame and plot the values again. But another interesting way to explore the effect of these genres on our data would be to plot them, but mark them with a different color.</p>\n<p>In Python, there are many ways to do this, but one fun way might be to use a loop to generate a list of colors based on the contents of the <code>genre</code> column. Much as we did in Intermediate Python, we can then pass this list to our plotting function in a later step to color all non-typical genres in a different color!</p>\n<p><em>Note: Although we are using the basic colors of red, blue, green, and black, <code>matplotlib</code> has many named colors you can use when creating plots. For more information, you can refer to the documentation <a href=\"https://matplotlib.org/stable/gallery/color/named_colors.html\">here</a>!</em></p>\n\n\n\n---\n\n\n\n---\n\n\n\n---\n## 8. Marcado de películas que no son de cine\nInteresante. Parece que muchas de las películas que duran menos de 60 minutos pertenecen a géneros como \"Niños\", \"Stand-Up\" y \"Documentales\". Se trata de un resultado lógico, ya que este tipo de películas suelen ser más cortas que las superproducciones de Hollywood de 90 minutos.\n\nPodríamos eliminar estas filas de nuestro DataFrame y volver a trazar los valores. Pero otra forma interesante de explorar el efecto de estos `genre` en nuestros datos sería trazarlos, pero marcarlos con un color diferente.\n\nEn Python, hay muchas maneras de hacer esto, pero una forma divertida podría ser utilizar un bucle para generar una lista de colores basada en el contenido de la columna de género. Al igual que hicimos en Python Intermedio, podemos pasar esta lista a nuestra función de trazado en un paso posterior para colorear todos los géneros no típicos de un color diferente.\n\nNota: Aunque estamos utilizando los colores básicos de rojo, azul, verde y negro, `matplotlib` tiene muchos colores con nombre que puede utilizar al crear gráficos. Para más información, puedes consultar la documentación [aquí](https://matplotlib.org/stable/gallery/color/named_colors.html:).\n",
   "metadata": {
    "dc": {
     "key": "53"
    },
    "deletable": false,
    "editable": false,
    "run_control": {
     "frozen": true
    },
    "tags": [
     "context"
    ],
    "id": "548GpCHKOoyn",
    "cell_id": "00014-b276ae95-a67c-4b2e-82dc-91f8bc7d2051",
    "deepnote_app_coordinates": {
     "x": 0,
     "y": 594,
     "w": 12,
     "h": 76
    },
    "deepnote_cell_type": "markdown",
    "deepnote_cell_height": 680.59375
   }
  },
  {
   "cell_type": "code",
   "metadata": {
    "dc": {
     "key": "53"
    },
    "tags": [
     "sample_code"
    ],
    "trusted": true,
    "id": "1rp-fmbjOoyo",
    "cell_id": "00015-6cc64b50-a20b-4b4f-933b-630300d2cf8f",
    "deepnote_to_be_reexecuted": false,
    "source_hash": "9866b3c6",
    "execution_start": 1652541672929,
    "execution_millis": 1320,
    "deepnote_app_coordinates": {
     "x": 0,
     "y": 671,
     "w": 12,
     "h": 22
    },
    "deepnote_cell_type": "code",
    "deepnote_cell_height": 561
   },
   "source": "# Define an empty list\ncolors = []\n\n# Iterate over rows of netflix_movies_col_subset\nfor i,row in netflix_movies_col_subset.iterrows():\n    if row['genre'] == 'Children':\n        colors.append('red')\n    elif row['genre'] == 'Documentaries':\n        colors.append('blue')\n    elif row['genre'] == 'Stand-up':\n        colors.append('green')\n    else:\n        colors.append('black')\n\n# Inspect the first 10 values in your list      \ncolors[:10]",
   "execution_count": null,
   "outputs": [
    {
     "output_type": "execute_result",
     "execution_count": 32,
     "data": {
      "text/plain": "['black',\n 'black',\n 'black',\n 'black',\n 'black',\n 'black',\n 'black',\n 'black',\n 'black',\n 'blue']"
     },
     "metadata": {}
    }
   ]
  },
  {
   "cell_type": "markdown",
   "source": "## 9. Plotting with color!\n<p>Lovely looping! We now have a <code>colors</code> list that we can pass to our scatter plot, which should allow us to visually inspect whether these genres might be responsible for the decline in the average duration of movies.</p>\n<p>This time, we'll also spruce up our plot with some additional axis labels and a new theme with <code>plt.style.use()</code>. The latter isn't taught in Intermediate Python, but can be a fun way to add some visual flair to a basic <code>matplotlib</code> plot. You can find more information on customizing the style of your plot <a href=\"https://matplotlib.org/stable/tutorials/introductory/customizing.html\">here</a>!</p>\n\n\n\n---\n\n\n\n---\n\n\n\n---\n\n## 9. ¡Graficando con color!\n¡Un bucle encantador! Ahora tenemos una lista de `colors` que podemos pasar a nuestro scatter plot, lo que debería permitirnos inspeccionar visualmente si estos géneros podrían ser responsables de la disminución de la duración media de las películas.\n\nEsta vez, también vamos a arreglar nuestro gráfico con algunas etiquetas de eje adicionales y un nuevo tema con `plt.style.use()`. Esto último no se enseña en Python Intermedio, pero puede ser una forma divertida de añadir algo de estilo visual a un gráfico básico de `matplotlib`. Puedes encontrar más información sobre cómo personalizar el estilo de tu gráfico [aquí](https://matplotlib.org/stable/tutorials/introductory/customizing.html).",
   "metadata": {
    "dc": {
     "key": "60"
    },
    "deletable": false,
    "editable": false,
    "run_control": {
     "frozen": true
    },
    "tags": [
     "context"
    ],
    "id": "qLaRpOIWOoyp",
    "cell_id": "00016-ab2ab4bf-037b-4391-bfd8-fcdb4ee1b20a",
    "deepnote_app_coordinates": {
     "x": 0,
     "y": 694,
     "w": 12,
     "h": 44
    },
    "deepnote_cell_type": "markdown",
    "deepnote_cell_height": 423
   }
  },
  {
   "cell_type": "code",
   "metadata": {
    "dc": {
     "key": "60"
    },
    "tags": [
     "sample_code"
    ],
    "collapsed": true,
    "trusted": true,
    "id": "T2ZjDur3Ooyq",
    "colab": {
     "base_uri": "https://localhost:8080/",
     "height": 558
    },
    "executionInfo": {
     "status": "ok",
     "timestamp": 1652495360227,
     "user_tz": 300,
     "elapsed": 1329,
     "user": {
      "displayName": "Lili Valencia González",
      "userId": "07496915779247915270"
     }
    },
    "outputId": "2da64640-1f9b-4415-8422-159750921202",
    "cell_id": "00017-e6f35866-a9d4-4d73-b87a-3424079aeb4f",
    "deepnote_to_be_reexecuted": false,
    "source_hash": "c6a45ca6",
    "execution_start": 1652541958715,
    "execution_millis": 465,
    "deepnote_app_coordinates": {
     "x": 0,
     "y": 739,
     "w": 12,
     "h": 20
    },
    "deepnote_cell_type": "code",
    "deepnote_cell_height": 874,
    "deepnote_output_heights": [
     543
    ]
   },
   "source": "# Set the figure style and initalize a new figure\nplt.style.use('fivethirtyeight')\nplt.figure(figsize=(10,8))\n\n# Create a scatter plot of duration versus release_year\nplt.scatter(netflix_movies_col_subset[\"release_year\"], netflix_movies_col_subset[\"duration\"], c=colors)\n\n# Create a title and axis labels\nplt.title(\"Movie duration by year of release\")\nplt.xlabel(\"Release year\")\nplt.ylabel(\"Duration (min)\")\n\n# Show the plot\nplt.show()",
   "execution_count": null,
   "outputs": [
    {
     "data": {
      "text/plain": "<Figure size 720x576 with 1 Axes>",
      "image/png": "[encoded data removed]"
     },
     "metadata": {
      "image/png": {
       "width": 692,
       "height": 541
      }
     },
     "output_type": "display_data"
    }
   ]
  },
  {
   "cell_type": "markdown",
   "source": "## 10. What next?\n<p>Well, as we suspected, non-typical genres such as children's movies and documentaries are all clustered around the bottom half of the plot. But we can't know for certain until we perform additional analyses. </p>\n<p>Congratulations, you've performed an exploratory analysis of some entertainment data, and there are lots of fun ways to develop your skills as a Pythonic data scientist. These include learning how to analyze data further with statistics, creating more advanced visualizations, and perhaps most importantly, learning more advanced ways of working with data in <code>pandas</code>. This latter skill is covered in our fantastic course <a href=\"www.datacamp.com/courses/data-manipulation-with-pandas\">Data Manipulation with pandas</a>.</p>\n<p>We hope you enjoyed this application of the skills learned in Intermediate Python, and wish you all the best on the rest of your journey!</p>\n\n\n\n---\n\n\n\n---\n\n\n\n---\n## 10. ¿Y ahora qué?\nBueno, como sospechábamos, los géneros no típicos, como las películas infantiles y los documentales, se agrupan en la mitad inferior del gráfico. Pero no podemos saberlo con certeza hasta que realicemos análisis adicionales.\n\nEnhorabuena, has realizado un análisis exploratorio de algunos datos de entretenimiento, y hay muchas formas divertidas de desarrollar tus habilidades como científico de datos de Pythonic. Estas incluyen aprender a analizar los datos más a fondo con las estadísticas, la creación de visualizaciones más avanzadas, y tal vez lo más importante, el aprendizaje de formas más avanzadas de trabajar con los datos en `pandas`. Esta última habilidad se cubre en nuestro fantástico [curso Manipulación de datos con pandas](https://colab.research.google.com/drive/www.datacamp.com/courses/data-manipulation-with-pandas).\n\n¡Esperamos que hayas disfrutado de esta aplicación de las habilidades aprendidas en Python Intermedio, y te deseamos lo mejor en el resto de tu viaje!\n",
   "metadata": {
    "dc": {
     "key": "67"
    },
    "deletable": false,
    "editable": false,
    "run_control": {
     "frozen": true
    },
    "tags": [
     "context"
    ],
    "id": "Q32tgse9Ooyq",
    "cell_id": "00018-70b59859-bc17-4aaf-b021-ce420eda7894",
    "deepnote_cell_type": "markdown",
    "deepnote_cell_height": 607.796875
   }
  },
  {
   "cell_type": "code",
   "metadata": {
    "dc": {
     "key": "67"
    },
    "tags": [
     "sample_code"
    ],
    "collapsed": true,
    "trusted": true,
    "id": "qYfp4-aGOoyr",
    "cell_id": "00019-cdd1cbaa-5852-4f7d-b899-9c8097b264f3",
    "deepnote_cell_type": "code",
    "deepnote_cell_height": 84
   },
   "source": "# Are we certain that movies are getting shorter?\nare_movies_getting_shorter = ...",
   "execution_count": null,
   "outputs": []
  },
  {
   "cell_type": "markdown",
   "source": "<a style='text-decoration:none;line-height:16px;display:flex;color:#5B5B62;padding:10px;justify-content:end;' href='https://deepnote.com?utm_source=created-in-deepnote-cell&projectId=46f3a888-6954-4715-997b-dea01b5bcd04' target=\"_blank\">\n<img alt='Created in deepnote.com' style='display:inline;max-height:16px;margin:0px;margin-right:7.5px;' src='data:image/svg+xml;base64,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' > </img>\nCreated in <span style='font-weight:600;margin-left:4px;'>Deepnote</span></a>",
   "metadata": {
    "tags": [],
    "created_in_deepnote_cell": true,
    "deepnote_cell_type": "markdown"
   }
  }
 ],
 "nbformat": 4,
 "nbformat_minor": 0,
 "metadata": {
  "kernelspec": {
   "name": "python3",
   "display_name": "Python 3",
   "language": "python"
  },
  "language_info": {
   "name": "python",
   "version": "3.6.7",
   "mimetype": "text/x-python",
   "codemirror_mode": {
    "name": "ipython",
    "version": 3
   },
   "pygments_lexer": "ipython3",
   "nbconvert_exporter": "python",
   "file_extension": ".py"
  },
  "colab": {
   "name": "Copia de Proyecto Netflix.ipynb",
   "provenance": []
  },
  "deepnote_notebook_id": "46bd3c6a-d5b0-46c0-8a07-c41359f2bdd3",
  "deepnote": {},
  "deepnote_app_layout": "article",
  "deepnote_execution_queue": []
 }
}